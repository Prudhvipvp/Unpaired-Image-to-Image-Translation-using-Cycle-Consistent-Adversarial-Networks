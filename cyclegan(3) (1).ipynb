{
  "nbformat": 4,
  "nbformat_minor": 0,
  "metadata": {
    "accelerator": "GPU",
    "colab": {
      "name": "cyclegan(3).ipynb",
      "provenance": [],
      "collapsed_sections": [],
      "toc_visible": true
    },
    "kernelspec": {
      "display_name": "Python 3",
      "language": "python",
      "name": "python3"
    },
    "language_info": {
      "codemirror_mode": {
        "name": "ipython",
        "version": 3
      },
      "file_extension": ".py",
      "mimetype": "text/x-python",
      "name": "python",
      "nbconvert_exporter": "python",
      "pygments_lexer": "ipython3",
      "version": "3.7.0"
    }
  },
  "cells": [
    {
      "cell_type": "code",
      "metadata": {
        "colab_type": "code",
        "id": "lhSsUx9Nyb3t",
        "colab": {}
      },
      "source": [
        "import tensorflow as tf\n",
        "from tensorflow.keras import datasets,layers,models\n",
        "from tensorflow_addons.layers import InstanceNormalization\n",
        "import numpy as np"
      ],
      "execution_count": null,
      "outputs": []
    },
    {
      "cell_type": "code",
      "metadata": {
        "colab_type": "code",
        "id": "YfIk2es3hJEd",
        "colab": {}
      },
      "source": [
        "import tensorflow_datasets as tfds\n",
        "import os\n",
        "import time\n",
        "import matplotlib.pyplot as plt\n",
        "from IPython.display import clear_output\n",
        "tfds.disable_progress_bar()\n",
        "AUTOTUNE = tf.data.experimental.AUTOTUNE"
      ],
      "execution_count": null,
      "outputs": []
    },
    {
      "cell_type": "code",
      "metadata": {
        "colab_type": "code",
        "id": "iuGVPOo7Cce0",
        "colab": {}
      },
      "source": [
        "dataset, metadata = tfds.load('cycle_gan/horse2zebra',with_info=True, as_supervised=True)\n",
        "horses_train, zebras_train = dataset['trainA'], dataset['trainB']\n",
        "horses_test, zebras_test = dataset['testA'], dataset['testB']"
      ],
      "execution_count": null,
      "outputs": []
    },
    {
      "cell_type": "code",
      "metadata": {
        "colab_type": "code",
        "id": "4PiYhiXRf3Q9",
        "colab": {}
      },
      "source": [
        "mnist_builder = tfds.builder(\"cycle_gan/horse2zebra\")\n",
        "info = mnist_builder.info\n",
        "print(info)\n"
      ],
      "execution_count": null,
      "outputs": []
    },
    {
      "cell_type": "code",
      "metadata": {
        "colab_type": "code",
        "id": "2CbTEt448b4R",
        "colab": {}
      },
      "source": [
        "BUFFER_SIZE = 900\n",
        "BATCH_SIZE = 1#because we are using instance normalization(it works better for style applications)\n",
        "IMG_WIDTH = 256\n",
        "IMG_HEIGHT = 256"
      ],
      "execution_count": null,
      "outputs": []
    },
    {
      "cell_type": "code",
      "metadata": {
        "colab_type": "code",
        "id": "X5xDUlIzdy6H",
        "colab": {}
      },
      "source": [
        "def crop(img):\n",
        "  cropped=tf.image.random_crop(img,[IMG_HEIGHT,IMG_WIDTH,3])\n",
        "  return cropped"
      ],
      "execution_count": null,
      "outputs": []
    },
    {
      "cell_type": "code",
      "metadata": {
        "colab_type": "code",
        "id": "muhR2cgbLKWW",
        "colab": {}
      },
      "source": [
        "\n",
        "def normalize(img):#normalised to -1 to 1\n",
        "  img = tf.cast(img, tf.float32)\n",
        "  img = (img / 127.5) - 1\n",
        "  return img"
      ],
      "execution_count": null,
      "outputs": []
    },
    {
      "cell_type": "code",
      "metadata": {
        "colab_type": "code",
        "id": "O0EtqKjXeai-",
        "colab": {}
      },
      "source": [
        "def process_image(img):\n",
        "  img=tf.image.resize(img,[286,286],method=tf.image.ResizeMethod.NEAREST_NEIGHBOR)#resize to 286*286 (height and width)\n",
        "  img=crop(img)#crop image\n",
        "  img=tf.image.random_flip_left_right(img)#randomly flip the images\n",
        "  return img"
      ],
      "execution_count": null,
      "outputs": []
    },
    {
      "cell_type": "code",
      "metadata": {
        "colab_type": "code",
        "id": "tyaP4hLJ8b4W",
        "colab": {}
      },
      "source": [
        "def preprocess_image_train(img,label):#function that will be passed to map() function\n",
        "  image = process_image(img)\n",
        "  image = normalize(image)\n",
        "  return image"
      ],
      "execution_count": null,
      "outputs": []
    },
    {
      "cell_type": "code",
      "metadata": {
        "colab_type": "code",
        "id": "VB3Z6D_zKSru",
        "colab": {}
      },
      "source": [
        "def preprocess_image_test(image,label):\n",
        "  image = normalize(image)\n",
        "  return image"
      ],
      "execution_count": null,
      "outputs": []
    },
    {
      "cell_type": "code",
      "metadata": {
        "colab_type": "code",
        "id": "RsajGXxd5JkZ",
        "colab": {}
      },
      "source": [
        "#applying the preprocess function to all images of the dataset using map()\n",
        "train_horses = horses_train.map(\n",
        "    preprocess_image_train, num_parallel_calls=AUTOTUNE).cache().shuffle(\n",
        "    BUFFER_SIZE).batch(1)\n",
        "\n",
        "train_zebras = zebras_train.map(\n",
        "    preprocess_image_train, num_parallel_calls=AUTOTUNE).cache().shuffle(\n",
        "    BUFFER_SIZE).batch(1)\n",
        "\n",
        "test_horses = horses_test.map(\n",
        "    preprocess_image_test, num_parallel_calls=AUTOTUNE).cache().shuffle(\n",
        "    BUFFER_SIZE).batch(1)\n",
        "\n",
        "test_zebras = zebras_test.map(\n",
        "    preprocess_image_test, num_parallel_calls=AUTOTUNE).cache().shuffle(\n",
        "    BUFFER_SIZE).batch(1)"
      ],
      "execution_count": null,
      "outputs": []
    },
    {
      "cell_type": "code",
      "metadata": {
        "colab_type": "code",
        "id": "e3MhJ3zVLPan",
        "colab": {}
      },
      "source": [
        "sample_horse = next(iter(train_horses))\n",
        "sample_zebra = next(iter(train_zebras))"
      ],
      "execution_count": null,
      "outputs": []
    },
    {
      "cell_type": "code",
      "metadata": {
        "colab_type": "code",
        "id": "4pOYjMk_KfIB",
        "colab": {}
      },
      "source": [
        "plt.subplot(121)\n",
        "plt.title('Horse')\n",
        "plt.imshow(sample_horse[0] * 0.5 + 0.5)\n",
        "\n",
        "plt.subplot(122)\n",
        "plt.title('Zebra')\n",
        "plt.imshow(sample_zebra[0] * 0.5 + 0.5)"
      ],
      "execution_count": null,
      "outputs": []
    },
    {
      "cell_type": "code",
      "metadata": {
        "colab_type": "code",
        "id": "PfRwSqn0vO-j",
        "colab": {}
      },
      "source": [
        "def residual_block(inputs):\n",
        "  initializer = tf.keras.initializers.RandomNormal(mean=0.0,stddev=0.02)\n",
        "  y=tf.keras.layers.Conv2D(256,(3,3),padding='same',kernel_initializer=initializer)(inputs)\n",
        "  y=InstanceNormalization(axis=-1)(y)\n",
        "  y=tf.keras.layers.Activation('relu')(y)\n",
        "  y=tf.keras.layers.Conv2D(256,(3,3),padding='same',kernel_initializer=initializer)(y)\n",
        "  y=InstanceNormalization(axis=-1)(y)\n",
        "  y = tf.keras.layers.Concatenate()([y, inputs])# making skip connection\n",
        "  return y"
      ],
      "execution_count": null,
      "outputs": []
    },
    {
      "cell_type": "code",
      "metadata": {
        "colab_type": "code",
        "id": "az7QgbN0nEMs",
        "colab": {}
      },
      "source": [
        "# the cycle gan uses two generators and two discriminators\n",
        "def make_generator():\n",
        "    inputs = tf.keras.Input(shape=(IMG_HEIGHT,IMG_WIDTH,3))\n",
        "    initializer = tf.keras.initializers.RandomNormal(mean=0.0, stddev=0.02)\n",
        "    x = tf.keras.layers.Conv2D(64,(7,7),padding='same',kernel_initializer=initializer)(inputs)\n",
        "    x = InstanceNormalization(axis=-1)(x)\n",
        "    x=tf.keras.layers.Activation('relu')(x)\n",
        "    x = tf.keras.layers.Conv2D(128,(3,3),strides=2,padding='same',kernel_initializer=initializer)(x)\n",
        "    x = InstanceNormalization(axis=-1)(x)\n",
        "    x=tf.keras.layers.Activation('relu')(x)\n",
        "    x = tf.keras.layers.Conv2D(256,(3,3),strides=2,padding='same',kernel_initializer=initializer)(x)\n",
        "    x = InstanceNormalization(axis=-1)(x)\n",
        "    x=tf.keras.layers.Activation('relu')(x)\n",
        "    for i in range(9):\n",
        "      x=residual_block(x)\n",
        "    x = tf.keras.layers.Conv2DTranspose(128,(3,3),strides=2,padding='same',kernel_initializer=initializer)(x)\n",
        "    x = InstanceNormalization(axis=-1)(x)\n",
        "    x=tf.keras.layers.Activation('relu')(x)\n",
        "    x = tf.keras.layers.Conv2DTranspose(64,(3,3),strides=2,padding='same',kernel_initializer=initializer)(x)\n",
        "    x = InstanceNormalization(axis=-1)(x)\n",
        "    x=tf.keras.layers.Activation('relu')(x)\n",
        "    x = tf.keras.layers.Conv2D(3,(7,7),padding='same',kernel_initializer=initializer)(x)\n",
        "    x = InstanceNormalization(axis=-1)(x)\n",
        "    x=tf.keras.layers.Activation('tanh')(x)\n",
        "    return tf.keras.Model(inputs=inputs, outputs=x)\n"
      ],
      "execution_count": null,
      "outputs": []
    },
    {
      "cell_type": "code",
      "metadata": {
        "colab_type": "code",
        "id": "CV_ZnGGwnEPx",
        "colab": {}
      },
      "source": [
        "gen_h_to_z=make_generator()#horse to zebra generator\n",
        "gen_z_to_h=make_generator()"
      ],
      "execution_count": null,
      "outputs": []
    },
    {
      "cell_type": "code",
      "metadata": {
        "colab_type": "code",
        "id": "H8z8jup3nETg",
        "colab": {}
      },
      "source": [
        "tf.keras.utils.plot_model(gen_h_to_z, show_shapes=True, dpi=64)#plot the model"
      ],
      "execution_count": null,
      "outputs": []
    },
    {
      "cell_type": "code",
      "metadata": {
        "colab_type": "code",
        "id": "BZP4BS7h3dQh",
        "colab": {}
      },
      "source": [
        "gen_h_to_z.summary()"
      ],
      "execution_count": null,
      "outputs": []
    },
    {
      "cell_type": "code",
      "metadata": {
        "colab_type": "code",
        "id": "mN5jHiis2shG",
        "colab": {}
      },
      "source": [
        "fake_zebra=gen_h_to_z(sample_horse)\n",
        "fake_horse=gen_z_to_h(sample_zebra)"
      ],
      "execution_count": null,
      "outputs": []
    },
    {
      "cell_type": "code",
      "metadata": {
        "colab_type": "code",
        "id": "Ri0BLy1-21rH",
        "colab": {}
      },
      "source": [
        "images = [sample_horse,fake_zebra, sample_zebra, fake_horse]\n",
        "title = ['Horse', 'Fake Zebra', 'Zebra', 'Fake Horse']\n",
        "contrast=8\n",
        "plt.figure(figsize=(8, 8))\n",
        "\n",
        "for i in range(len(images)):\n",
        "  plt.subplot(2, 2, i+1)\n",
        "  plt.title(title[i])\n",
        "  if i % 2 == 0:\n",
        "    plt.imshow(images[i][0] * 0.5 + 0.5)#for originals\n",
        "  else:\n",
        "    plt.imshow(images[i][0] * 0.5 * contrast + 0.5)#for generated\n",
        "plt.show()\n"
      ],
      "execution_count": null,
      "outputs": []
    },
    {
      "cell_type": "code",
      "metadata": {
        "colab_type": "code",
        "id": "dbIIKa7Z4hj4",
        "colab": {}
      },
      "source": [
        "def make_discriminator():#we use a Patch discriminator\n",
        "    inputs = tf.keras.Input(shape=(IMG_HEIGHT,IMG_WIDTH,3))\n",
        "    initializer = tf.keras.initializers.RandomNormal(mean=0.0, stddev=0.02)\n",
        "    x = tf.keras.layers.Conv2D(64,(4,4),strides=2,padding='same',kernel_initializer=initializer)(inputs)\n",
        "    x=tf.keras.layers.LeakyReLU(alpha=0.2)(x)\n",
        "    x = tf.keras.layers.Conv2D(128,(4,4),strides=2,padding='same',kernel_initializer=initializer)(x)\n",
        "    x = InstanceNormalization(axis=-1)(x)\n",
        "    x=tf.keras.layers.LeakyReLU(alpha=0.2)(x)\n",
        "    x = tf.keras.layers.Conv2D(256,(4,4),strides=2,padding='same',kernel_initializer=initializer)(x)\n",
        "    x = InstanceNormalization(axis=-1)(x)\n",
        "    x=tf.keras.layers.LeakyReLU(alpha=0.2)(x)\n",
        "    x = tf.keras.layers.Conv2D(512,(4,4),strides=2,padding='same',kernel_initializer=initializer)(x)\n",
        "    x = InstanceNormalization(axis=-1)(x)\n",
        "    x=tf.keras.layers.LeakyReLU(alpha=0.2)(x)\n",
        "    # x=tf.keras.layers.ZeroPadding2D()(x)\n",
        "    x = tf.keras.layers.Conv2D(512,(4,4),padding='same',kernel_initializer=initializer)(x)\n",
        "    x = InstanceNormalization(axis=-1)(x)\n",
        "    x=tf.keras.layers.LeakyReLU(alpha=0.2)(x)\n",
        "    # x=tf.keras.layers.ZeroPadding2D()(x)\n",
        "    x = tf.keras.layers.Conv2D(1,(4,4),padding='same',kernel_initializer=initializer)(x)\n",
        "    return tf.keras.Model(inputs=inputs, outputs=x)"
      ],
      "execution_count": null,
      "outputs": []
    },
    {
      "cell_type": "code",
      "metadata": {
        "colab_type": "code",
        "id": "uhECvn9d6tkF",
        "colab": {}
      },
      "source": [
        "dis_h=make_discriminator()\n",
        "dis_z=make_discriminator()"
      ],
      "execution_count": null,
      "outputs": []
    },
    {
      "cell_type": "code",
      "metadata": {
        "colab_type": "code",
        "id": "1dUYqGTT66a9",
        "colab": {}
      },
      "source": [
        "tf.keras.utils.plot_model(dis_h, show_shapes=True, dpi=64)#plot the model"
      ],
      "execution_count": null,
      "outputs": []
    },
    {
      "cell_type": "code",
      "metadata": {
        "colab_type": "code",
        "id": "m7Ks_dyk7EcM",
        "colab": {}
      },
      "source": [
        "real=dis_h(sample_horse)\n",
        "fake=dis_h(fake_horse)"
      ],
      "execution_count": null,
      "outputs": []
    },
    {
      "cell_type": "code",
      "metadata": {
        "colab_type": "code",
        "id": "_1-8deLZ98J6",
        "colab": {}
      },
      "source": [
        "#sample outputs of discriminator\n",
        "plt.figure(figsize=(8,8))\n",
        "plt.subplot(121)\n",
        "plt.title('Discriminator Output for real horse')\n",
        "plt.imshow(real[0,:,:,0],cmap='RdBu_r')\n",
        "plt.subplot(122)\n",
        "plt.title('Discriminator Output for fake horse')\n",
        "plt.imshow(fake[0,:,:,0], cmap='RdBu_r')\n",
        "plt.show()\n"
      ],
      "execution_count": null,
      "outputs": []
    },
    {
      "cell_type": "code",
      "metadata": {
        "colab_type": "code",
        "id": "9Y-2P8UnAw7k",
        "colab": {}
      },
      "source": [
        "squareloss=tf.keras.losses.MeanSquaredError()\n",
        "Lambda=10#the weight for cycle loss\n"
      ],
      "execution_count": null,
      "outputs": []
    },
    {
      "cell_type": "code",
      "metadata": {
        "colab_type": "code",
        "id": "yQBRoBUqLmZx",
        "colab": {}
      },
      "source": [
        "def discriminator_loss(real_output,fake_output):\n",
        "  realloss=squareloss(tf.ones_like(real_output),real_output)\n",
        "  fakeloss=squareloss(tf.zeros_like(fake_output),fake_output)\n",
        "  return (realloss+fakeloss)*0.5"
      ],
      "execution_count": null,
      "outputs": []
    },
    {
      "cell_type": "code",
      "metadata": {
        "colab_type": "code",
        "id": "y-USPEzaMc-a",
        "colab": {}
      },
      "source": [
        "def generator_loss(fake_output):#it is the output generated by discriminator when fake image is inputted\n",
        "       return squareloss(tf.ones_like(fake_output),fake_output)\n"
      ],
      "execution_count": null,
      "outputs": []
    },
    {
      "cell_type": "code",
      "metadata": {
        "colab_type": "code",
        "id": "HVtC0cCFMzQn",
        "colab": {}
      },
      "source": [
        "def cycle_loss(real_input,cycled_input):\n",
        "  return Lambda*tf.reduce_mean(tf.abs(real_input-cycled_input))\n"
      ],
      "execution_count": null,
      "outputs": []
    },
    {
      "cell_type": "code",
      "metadata": {
        "colab_type": "code",
        "id": "N3ay_zdANYjc",
        "colab": {}
      },
      "source": [
        "def identity_loss(real_input,generated_input):\n",
        "  loss=tf.reduce_mean(tf.abs(real_input-generated_input))\n",
        "  return loss*0.5*Lambda"
      ],
      "execution_count": null,
      "outputs": []
    },
    {
      "cell_type": "code",
      "metadata": {
        "colab_type": "code",
        "id": "0f8gPQUqNySd",
        "colab": {}
      },
      "source": [
        "generator_htoz_optimizer = tf.keras.optimizers.Adam(2e-4, beta_1=0.5)\n",
        "generator_ztoh_optimizer = tf.keras.optimizers.Adam(2e-4, beta_1=0.5)\n",
        "\n",
        "discriminator_h_optimizer = tf.keras.optimizers.Adam(2e-4, beta_1=0.5)\n",
        "discriminator_z_optimizer = tf.keras.optimizers.Adam(2e-4, beta_1=0.5)\n"
      ],
      "execution_count": null,
      "outputs": []
    },
    {
      "cell_type": "code",
      "metadata": {
        "colab_type": "code",
        "id": "gtB_2X6fOFja",
        "colab": {}
      },
      "source": [
        "@tf.function\n",
        "def train_step(horses,zebras):\n",
        "    # persistent is set to True because the tape is used more than\n",
        "    # once to calculate the gradients.\n",
        "  with tf.GradientTape(persistent=True) as tape:\n",
        "    fake_zebras=gen_h_to_z(horses,training=True)\n",
        "    fake_horses=gen_z_to_h(zebras,training=True)\n",
        "\n",
        "    cycled_horses=gen_z_to_h(fake_zebras,training=True)\n",
        "    cycled_zebras=gen_h_to_z(fake_horses,training=True)\n",
        "\n",
        "    real_horse_disc=dis_h(horses,training=True)\n",
        "    fake_horse_disc=dis_h(fake_horses,training=True)\n",
        "\n",
        "    real_zebra_disc=dis_z(zebras,training=True)\n",
        "    fake_zebra_disc=dis_z(fake_zebras,training=True)\n",
        "\n",
        "    generated_horse=gen_z_to_h(horses,training=True)\n",
        "    generated_zebra=gen_h_to_z(zebras,training=True)\n",
        "\n",
        "    disc_h_loss=discriminator_loss(real_horse_disc,fake_horse_disc)\n",
        "    disc_z_loss=discriminator_loss(real_zebra_disc,fake_zebra_disc)\n",
        "\n",
        "    gen_htoz_loss=generator_loss(fake_zebra_disc)\n",
        "    gen_ztoh_loss=generator_loss(fake_horse_disc)\n",
        "\n",
        "    cycleloss=cycle_loss(horses,cycled_horses)+cycle_loss(zebras,cycled_zebras)\n",
        "\n",
        "    total_htoz_loss=gen_htoz_loss+cycleloss+identity_loss(zebras,generated_zebra)#adversialLoss+cycleLoss+IdentityLoss\n",
        "    total_ztoh_loss=gen_ztoh_loss+cycleloss+identity_loss(horses,generated_horse)\n",
        "    \n",
        "  gen_htoz_gradients=tape.gradient(total_htoz_loss,gen_h_to_z.trainable_variables)\n",
        "  gen_ztoh_gradients=tape.gradient(total_ztoh_loss,gen_z_to_h.trainable_variables)\n",
        "  disc_h_gradients=tape.gradient(disc_h_loss,dis_h.trainable_variables)\n",
        "  disc_z_gradients=tape.gradient(disc_z_loss,dis_z.trainable_variables)\n",
        "  generator_htoz_optimizer.apply_gradients(zip(gen_htoz_gradients,gen_h_to_z.trainable_variables))\n",
        "  generator_ztoh_optimizer.apply_gradients(zip(gen_ztoh_gradients,gen_z_to_h.trainable_variables))\n",
        "  discriminator_h_optimizer.apply_gradients(zip(disc_h_gradients,dis_h.trainable_variables))\n",
        "  discriminator_z_optimizer.apply_gradients(zip(disc_z_gradients,dis_z.trainable_variables))\n",
        "\n",
        "     "
      ],
      "execution_count": null,
      "outputs": []
    },
    {
      "cell_type": "code",
      "metadata": {
        "colab_type": "code",
        "id": "BAEk8OOfWOeY",
        "colab": {}
      },
      "source": [
        "def train(epochs):\n",
        " for epoch in range(epochs):\n",
        "  start = time.time()\n",
        "  n = 0\n",
        "  count=0\n",
        "  progbar = tf.keras.utils.Progbar(1067)#it is the number of datapoints as seen from info\n",
        "  for image_x, image_y in tf.data.Dataset.zip((train_horses, train_zebras)):\n",
        "    train_step(image_x, image_y)\n",
        "    if n % 10 == 0:\n",
        "      print ('.', end='')\n",
        "    n+=1\n",
        "    count+=1\n",
        "    progbar.update(count)\n",
        "  clear_output(wait=True)\n",
        "  show_output(gen_h_to_z, sample_horse)\n",
        "  print ('Time taken for epoch {} is {} sec\\n'.format(epoch + 1,time.time()-start))\n"
      ],
      "execution_count": null,
      "outputs": []
    },
    {
      "cell_type": "code",
      "metadata": {
        "colab_type": "code",
        "id": "31NEUHQsbH5h",
        "colab": {}
      },
      "source": [
        " def show_output(model,test_input):\n",
        "  prediction = model(test_input)\n",
        "    \n",
        "  plt.figure(figsize=(12, 12))\n",
        "\n",
        "  display_list = [test_input[0], prediction[0]]\n",
        "  title = ['Real image', 'Generated Fake Image']\n",
        "\n",
        "  for i in range(2):\n",
        "    plt.subplot(1, 2, i+1)\n",
        "    plt.title(title[i])\n",
        "    # getting the pixel values between [0, 1] to plot it.\n",
        "    plt.imshow(display_list[i] * 0.5 + 0.5)\n",
        "    plt.axis('off')\n",
        "  plt.show()\n"
      ],
      "execution_count": null,
      "outputs": []
    },
    {
      "cell_type": "code",
      "metadata": {
        "colab_type": "code",
        "id": "i6vY6aFhbr3m",
        "colab": {}
      },
      "source": [
        "epochs=100\n",
        "train(epochs)"
      ],
      "execution_count": null,
      "outputs": []
    },
    {
      "cell_type": "code",
      "metadata": {
        "colab_type": "code",
        "id": "kbnjjYinb9r9",
        "colab": {}
      },
      "source": [
        "for inp in test_horses.take(5):\n",
        "  show_output(gen_h_to_z, inp)\n"
      ],
      "execution_count": null,
      "outputs": []
    },
    {
      "cell_type": "code",
      "metadata": {
        "colab_type": "code",
        "id": "D8pifdYacCVd",
        "colab": {}
      },
      "source": [
        "for inp in test_zebras.take(5):\n",
        "  show_output(gen_z_to_h, inp)\n"
      ],
      "execution_count": null,
      "outputs": []
    }
  ]
}